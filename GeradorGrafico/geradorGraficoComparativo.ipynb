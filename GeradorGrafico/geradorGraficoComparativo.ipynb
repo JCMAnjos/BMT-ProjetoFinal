{
 "cells": [
  {
   "cell_type": "code",
   "execution_count": 142,
   "metadata": {},
   "outputs": [],
   "source": [
    "import pandas as pd\n",
    "import matplotlib.pyplot as plt\n",
    "import numpy as np\n",
    "from sklearn.metrics import ConfusionMatrixDisplay\n",
    "\n",
    "DATA_PATH_BERT_NAOBINARIO = \"../ResultadoSalvo/Resultado_Completo_ClassificadorNaoBinario_BERT10.csv\"\n",
    "DATA_PATH_BERT_BINARIO = \"../ResultadoSalvo/Resultado_Completo_ClassificadorBinario_BERT10.csv\"\n",
    "\n",
    "DATA_PATH_SVM_NAOBINARIO = \"../ResultadoSalvo/Resultado_Teste_ClassificadorNaoBinario_W2V50D_SVM.csv\"\n",
    "DATA_PATH_SVM_BINARIO = \"../ResultadoSalvo/Resultado_Teste_ClassificadorBinario_W2V50D_SVM.csv\"\n",
    "\n",
    "DATA_PATH_GPT_NAOBINARIO = \"../ResultadoSalvo/Resultado_Completo_ClassificadorNaoBinario_GPT.csv\"\n",
    "DATA_PATH_GPT_BINARIO = \"../ResultadoSalvo/Resultado_Completo_ClassificadorNaoBinario_GPT.csv\""
   ]
  },
  {
   "cell_type": "code",
   "execution_count": 143,
   "metadata": {},
   "outputs": [],
   "source": [
    "dados_NaoBinario_BERT = pd.read_csv(DATA_PATH_BERT_NAOBINARIO,index_col=\"indice\")\n",
    "dados_Binario_BERT = pd.read_csv(DATA_PATH_BERT_BINARIO,index_col=\"indice\")\n",
    "\n",
    "dados_NaoBinario_SVM = pd.read_csv(DATA_PATH_SVM_NAOBINARIO,index_col=\"Unnamed: 0\",sep=\";\")\n",
    "dados_Binario_SVM = pd.read_csv(DATA_PATH_SVM_BINARIO,index_col=\"Unnamed: 0\",sep=\";\")\n",
    "\n",
    "dados_NaoBinario_GPT = pd.read_csv(DATA_PATH_GPT_NAOBINARIO,index_col=\"indice\")\n",
    "dados_Binario_GPT = pd.read_csv(DATA_PATH_GPT_BINARIO,index_col=\"indice\")\n",
    "dados_Binario_GPT = dados_Binario_GPT[(dados_Binario_GPT['sentimento_GPT'] !=\"x\") & (dados_Binario_GPT['sentimento_humano'] !=\"x\")]"
   ]
  },
  {
   "cell_type": "code",
   "execution_count": 144,
   "metadata": {},
   "outputs": [
    {
     "data": {
      "text/html": [
       "<div>\n",
       "<style scoped>\n",
       "    .dataframe tbody tr th:only-of-type {\n",
       "        vertical-align: middle;\n",
       "    }\n",
       "\n",
       "    .dataframe tbody tr th {\n",
       "        vertical-align: top;\n",
       "    }\n",
       "\n",
       "    .dataframe thead th {\n",
       "        text-align: right;\n",
       "    }\n",
       "</style>\n",
       "<table border=\"1\" class=\"dataframe\">\n",
       "  <thead>\n",
       "    <tr style=\"text-align: right;\">\n",
       "      <th></th>\n",
       "      <th>Comentario</th>\n",
       "      <th>ClassificacaoManual</th>\n",
       "      <th>ClassificacaoSVM</th>\n",
       "    </tr>\n",
       "  </thead>\n",
       "  <tbody>\n",
       "    <tr>\n",
       "      <th>0</th>\n",
       "      <td>'Bem-vinda' Skynet...</td>\n",
       "      <td>0</td>\n",
       "      <td>0</td>\n",
       "    </tr>\n",
       "    <tr>\n",
       "      <th>1</th>\n",
       "      <td>Usar IA pra ler as legislações do Brasil e bai...</td>\n",
       "      <td>1</td>\n",
       "      <td>0</td>\n",
       "    </tr>\n",
       "    <tr>\n",
       "      <th>2</th>\n",
       "      <td>Eu, eu to com medo do que essas inteligências ...</td>\n",
       "      <td>0</td>\n",
       "      <td>0</td>\n",
       "    </tr>\n",
       "    <tr>\n",
       "      <th>3</th>\n",
       "      <td>O bagulho vai fica loko nos próximos anos</td>\n",
       "      <td>1</td>\n",
       "      <td>1</td>\n",
       "    </tr>\n",
       "    <tr>\n",
       "      <th>4</th>\n",
       "      <td>Obrigado Deus por dar capacidade ao homem i mu...</td>\n",
       "      <td>1</td>\n",
       "      <td>1</td>\n",
       "    </tr>\n",
       "    <tr>\n",
       "      <th>...</th>\n",
       "      <td>...</td>\n",
       "      <td>...</td>\n",
       "      <td>...</td>\n",
       "    </tr>\n",
       "    <tr>\n",
       "      <th>189</th>\n",
       "      <td>O chat gpt veio para fazer com que o Google fa...</td>\n",
       "      <td>1</td>\n",
       "      <td>0</td>\n",
       "    </tr>\n",
       "    <tr>\n",
       "      <th>190</th>\n",
       "      <td>Da picanha vocês só vão comer a pic4 mais n es...</td>\n",
       "      <td>0</td>\n",
       "      <td>0</td>\n",
       "    </tr>\n",
       "    <tr>\n",
       "      <th>191</th>\n",
       "      <td>chat gpt n sabe da uma resposta certa quanto m...</td>\n",
       "      <td>0</td>\n",
       "      <td>0</td>\n",
       "    </tr>\n",
       "    <tr>\n",
       "      <th>192</th>\n",
       "      <td>Não devemos dar atenção a inteligência artific...</td>\n",
       "      <td>1</td>\n",
       "      <td>1</td>\n",
       "    </tr>\n",
       "    <tr>\n",
       "      <th>193</th>\n",
       "      <td>Então mais alguém viu na descrição da inteligê...</td>\n",
       "      <td>0</td>\n",
       "      <td>0</td>\n",
       "    </tr>\n",
       "  </tbody>\n",
       "</table>\n",
       "<p>194 rows × 3 columns</p>\n",
       "</div>"
      ],
      "text/plain": [
       "                                            Comentario  ClassificacaoManual  \\\n",
       "0                                'Bem-vinda' Skynet...                    0   \n",
       "1    Usar IA pra ler as legislações do Brasil e bai...                    1   \n",
       "2    Eu, eu to com medo do que essas inteligências ...                    0   \n",
       "3            O bagulho vai fica loko nos próximos anos                    1   \n",
       "4    Obrigado Deus por dar capacidade ao homem i mu...                    1   \n",
       "..                                                 ...                  ...   \n",
       "189  O chat gpt veio para fazer com que o Google fa...                    1   \n",
       "190  Da picanha vocês só vão comer a pic4 mais n es...                    0   \n",
       "191  chat gpt n sabe da uma resposta certa quanto m...                    0   \n",
       "192  Não devemos dar atenção a inteligência artific...                    1   \n",
       "193  Então mais alguém viu na descrição da inteligê...                    0   \n",
       "\n",
       "     ClassificacaoSVM  \n",
       "0                   0  \n",
       "1                   0  \n",
       "2                   0  \n",
       "3                   1  \n",
       "4                   1  \n",
       "..                ...  \n",
       "189                 0  \n",
       "190                 0  \n",
       "191                 0  \n",
       "192                 1  \n",
       "193                 0  \n",
       "\n",
       "[194 rows x 3 columns]"
      ]
     },
     "metadata": {},
     "output_type": "display_data"
    }
   ],
   "source": [
    "display(dados_Binario_SVM)"
   ]
  },
  {
   "attachments": {},
   "cell_type": "markdown",
   "metadata": {},
   "source": [
    "Comparando resultados não binários"
   ]
  },
  {
   "cell_type": "code",
   "execution_count": 145,
   "metadata": {},
   "outputs": [
    {
     "data": {
      "image/png": "[encoded data removed]",
      "text/plain": [
       "<Figure size 640x480 with 1 Axes>"
      ]
     },
     "metadata": {},
     "output_type": "display_data"
    }
   ],
   "source": [
    "\n",
    "numeroTotalComentarios = dados_NaoBinario_BERT['comentario'].count()\n",
    "\n",
    "plt.bar(x=[1,6,11],height=[(dados_NaoBinario_BERT[dados_NaoBinario_BERT['sentimento_humano']==\"p\"]['comentario']).count()/numeroTotalComentarios,(dados_NaoBinario_BERT[dados_NaoBinario_BERT['sentimento_humano']==\"n\"]['comentario']).count()/numeroTotalComentarios, (dados_NaoBinario_BERT[dados_NaoBinario_BERT['sentimento_humano']==\"x\"]['comentario']).count()/numeroTotalComentarios])\n",
    "plt.bar(x=[2,7,12],height=[(dados_NaoBinario_BERT[dados_NaoBinario_BERT['sentimento_BERT']==\"p\"]['comentario']).count()/numeroTotalComentarios,(dados_NaoBinario_BERT[dados_NaoBinario_BERT['sentimento_BERT']==\"n\"]['comentario']).count()/numeroTotalComentarios, (dados_NaoBinario_BERT[dados_NaoBinario_BERT['sentimento_BERT']==\"x\"]['comentario']).count()/numeroTotalComentarios])\n",
    "plt.bar(x=[3,8,13],height=[(dados_NaoBinario_SVM[dados_NaoBinario_SVM['ClassificacaoSVM']==1]['Comentario']).count()/numeroTotalComentarios,(dados_NaoBinario_SVM[dados_NaoBinario_SVM['ClassificacaoSVM']==0]['Comentario']).count()/numeroTotalComentarios, (dados_NaoBinario_SVM[dados_NaoBinario_SVM['ClassificacaoSVM']==2]['Comentario']).count()/numeroTotalComentarios])\n",
    "plt.bar(x=[4,9,14],height=[(dados_NaoBinario_GPT[dados_NaoBinario_GPT['sentimento_GPT']==\"p\"]['comentario']).count()/numeroTotalComentarios,(dados_NaoBinario_GPT[dados_NaoBinario_GPT['sentimento_GPT']==\"n\"]['comentario']).count()/numeroTotalComentarios, (dados_NaoBinario_GPT[dados_NaoBinario_GPT['sentimento_GPT']==\"x\"]['comentario']).count()/numeroTotalComentarios])\n",
    "# plt.xticks([r + barwidth for r in range(3)],['Positivo','Negativo','Neutro'])\n",
    "\n",
    "\n",
    "plt.ylabel(\"Number of comments\")\n",
    "plt.xlabel(\"Classification\")\n",
    "plt.title(\"Manual classification X Number of comments\")\n",
    "plt.show()"
   ]
  },
  {
   "attachments": {},
   "cell_type": "markdown",
   "metadata": {},
   "source": []
  },
  {
   "cell_type": "code",
   "execution_count": 146,
   "metadata": {},
   "outputs": [
    {
     "data": {
      "image/png": "[encoded data removed]",
      "text/plain": [
       "<Figure size 640x480 with 1 Axes>"
      ]
     },
     "metadata": {},
     "output_type": "display_data"
    }
   ],
   "source": [
    "numeroTotalComentarios = dados_Binario_BERT['comentario'].count()\n",
    "\n",
    "plt.bar(x=[1,6],height=[(dados_Binario_BERT[dados_Binario_BERT['sentimento_humano']==\"p\"]['comentario']).count()/numeroTotalComentarios,(dados_Binario_BERT[dados_Binario_BERT['sentimento_humano']==\"n\"]['comentario']).count()/numeroTotalComentarios])\n",
    "plt.bar(x=[2,7],height=[(dados_Binario_BERT[dados_Binario_BERT['sentimento_BERT']==\"p\"]['comentario']).count()/numeroTotalComentarios,(dados_Binario_BERT[dados_Binario_BERT['sentimento_BERT']==\"n\"]['comentario']).count()/numeroTotalComentarios])\n",
    "plt.bar(x=[3,8],height=[(dados_Binario_SVM[dados_Binario_SVM['ClassificacaoSVM']==1]['Comentario']).count()/numeroTotalComentarios,(dados_Binario_SVM[dados_Binario_SVM['ClassificacaoSVM']==0]['Comentario']).count()/numeroTotalComentarios])\n",
    "plt.bar(x=[4,9],height=[(dados_Binario_GPT[dados_Binario_GPT['sentimento_GPT']==\"p\"]['comentario']).count()/numeroTotalComentarios,(dados_Binario_GPT[dados_Binario_GPT['sentimento_GPT']==\"n\"]['comentario']).count()/numeroTotalComentarios])\n",
    "# plt.xticks([r + barwidth for r in range(3)],['Positivo','Negativo','Neutro'])\n",
    "\n",
    "\n",
    "plt.ylabel(\"Number of comments\")\n",
    "plt.xlabel(\"Classification\")\n",
    "plt.title(\"Manual classification X Number of comments\")\n",
    "plt.show()"
   ]
  },
  {
   "cell_type": "code",
   "execution_count": 147,
   "metadata": {},
   "outputs": [
    {
     "data": {
      "image/png": "[encoded data removed]",
      "text/plain": [
       "<Figure size 640x480 with 1 Axes>"
      ]
     },
     "metadata": {},
     "output_type": "display_data"
    }
   ],
   "source": [
    "numeroTotalComentarios = dados_Binario_BERT['comentario'].count()\n",
    "\n",
    "plt.bar(x=[1,6],height=[(dados_Binario_BERT[dados_Binario_BERT['sentimento_humano']==\"p\"]['comentario']).count(),(dados_Binario_BERT[dados_Binario_BERT['sentimento_humano']==\"n\"]['comentario']).count()])\n",
    "plt.bar(x=[2,7],height=[(dados_Binario_BERT[dados_Binario_BERT['sentimento_BERT']==\"p\"]['comentario']).count(),(dados_Binario_BERT[dados_Binario_BERT['sentimento_BERT']==\"n\"]['comentario']).count()])\n",
    "plt.bar(x=[3,8],height=[(dados_Binario_SVM[dados_Binario_SVM['ClassificacaoSVM']==1]['Comentario']).count(),(dados_Binario_SVM[dados_Binario_SVM['ClassificacaoSVM']==0]['Comentario']).count()])\n",
    "plt.bar(x=[4,9],height=[(dados_Binario_GPT[dados_Binario_GPT['sentimento_GPT']==\"p\"]['comentario']).count(),(dados_Binario_GPT[dados_Binario_GPT['sentimento_GPT']==\"n\"]['comentario']).count()])\n",
    "# plt.xticks([r + barwidth for r in range(3)],['Positivo','Negativo','Neutro'])\n",
    "\n",
    "\n",
    "plt.ylabel(\"Number of comments\")\n",
    "plt.xlabel(\"Classification\")\n",
    "plt.title(\"Manual classification X Number of comments\")\n",
    "plt.show()"
   ]
  },
  {
   "cell_type": "code",
   "execution_count": 148,
   "metadata": {},
   "outputs": [
    {
     "data": {
      "text/plain": [
       "'Acertos positivos'"
      ]
     },
     "metadata": {},
     "output_type": "display_data"
    },
    {
     "data": {
      "text/plain": [
       "192"
      ]
     },
     "metadata": {},
     "output_type": "display_data"
    },
    {
     "data": {
      "text/plain": [
       "'Erros positivos'"
      ]
     },
     "metadata": {},
     "output_type": "display_data"
    },
    {
     "data": {
      "text/plain": [
       "40"
      ]
     },
     "metadata": {},
     "output_type": "display_data"
    },
    {
     "data": {
      "text/plain": [
       "'Acertos negativos'"
      ]
     },
     "metadata": {},
     "output_type": "display_data"
    },
    {
     "data": {
      "text/plain": [
       "538"
      ]
     },
     "metadata": {},
     "output_type": "display_data"
    },
    {
     "data": {
      "text/plain": [
       "'Erros negativos'"
      ]
     },
     "metadata": {},
     "output_type": "display_data"
    },
    {
     "data": {
      "text/plain": [
       "8"
      ]
     },
     "metadata": {},
     "output_type": "display_data"
    },
    {
     "data": {
      "text/plain": [
       "[192, 40, 538, 8]"
      ]
     },
     "metadata": {},
     "output_type": "display_data"
    }
   ],
   "source": [
    "BERT_err = [0,0,0,0]\n",
    "display(\"Acertos positivos\")\n",
    "BERT_err[0] = (dados_Binario_BERT[(dados_Binario_BERT['sentimento_humano']==\"p\") & (dados_Binario_BERT['sentimento_BERT']==\"p\")]['comentario']).count()\n",
    "display(BERT_err[0])\n",
    "display(\"Erros positivos\")\n",
    "BERT_err[1] = (dados_Binario_BERT[(dados_Binario_BERT['sentimento_humano']==\"p\") & (dados_Binario_BERT['sentimento_BERT']!=\"p\")]['comentario']).count()\n",
    "display(BERT_err[1])\n",
    "display(\"Acertos negativos\")\n",
    "BERT_err[2] = (dados_Binario_BERT[(dados_Binario_BERT['sentimento_humano']==\"n\") & (dados_Binario_BERT['sentimento_BERT']==\"n\")]['comentario']).count()\n",
    "display(BERT_err[2])\n",
    "display(\"Erros negativos\")\n",
    "BERT_err[3] = (dados_Binario_BERT[(dados_Binario_BERT['sentimento_humano']==\"n\") & (dados_Binario_BERT['sentimento_BERT']!=\"n\")]['comentario']).count()\n",
    "display(BERT_err[3])\n",
    "display(BERT_err)\n",
    "\n",
    "tmp = BERT_err[0] + BERT_err[1]\n",
    "BERT_err[0] = BERT_err[0]/(tmp)\n",
    "BERT_err[1] = BERT_err[1]/(tmp)\n",
    "tmp = BERT_err[2] + BERT_err[3]\n",
    "BERT_err[2] = BERT_err[2]/(tmp)\n",
    "BERT_err[3] = BERT_err[3]/(tmp)\n"
   ]
  },
  {
   "cell_type": "code",
   "execution_count": 149,
   "metadata": {},
   "outputs": [
    {
     "data": {
      "text/plain": [
       "'Acertos positivos'"
      ]
     },
     "metadata": {},
     "output_type": "display_data"
    },
    {
     "data": {
      "text/plain": [
       "24"
      ]
     },
     "metadata": {},
     "output_type": "display_data"
    },
    {
     "data": {
      "text/plain": [
       "'Erros positivos'"
      ]
     },
     "metadata": {},
     "output_type": "display_data"
    },
    {
     "data": {
      "text/plain": [
       "35"
      ]
     },
     "metadata": {},
     "output_type": "display_data"
    },
    {
     "data": {
      "text/plain": [
       "'Acertos negativos'"
      ]
     },
     "metadata": {},
     "output_type": "display_data"
    },
    {
     "data": {
      "text/plain": [
       "99"
      ]
     },
     "metadata": {},
     "output_type": "display_data"
    },
    {
     "data": {
      "text/plain": [
       "'Erros negativos'"
      ]
     },
     "metadata": {},
     "output_type": "display_data"
    },
    {
     "data": {
      "text/plain": [
       "36"
      ]
     },
     "metadata": {},
     "output_type": "display_data"
    },
    {
     "data": {
      "text/plain": [
       "[24, 35, 99, 36]"
      ]
     },
     "metadata": {},
     "output_type": "display_data"
    },
    {
     "data": {
      "text/plain": [
       "[0.4067796610169492,\n",
       " 0.5932203389830508,\n",
       " 0.7333333333333333,\n",
       " 0.26666666666666666]"
      ]
     },
     "metadata": {},
     "output_type": "display_data"
    }
   ],
   "source": [
    "SVM_err = [0,0,0,0]\n",
    "display(\"Acertos positivos\")\n",
    "SVM_err[0] = (dados_Binario_SVM[(dados_Binario_SVM['ClassificacaoManual']==1) & (dados_Binario_SVM['ClassificacaoSVM']==1)]['Comentario']).count()\n",
    "display(SVM_err[0])\n",
    "display(\"Erros positivos\")\n",
    "SVM_err[1] = (dados_Binario_SVM[(dados_Binario_SVM['ClassificacaoManual']==1) & (dados_Binario_SVM['ClassificacaoSVM']!=1)]['Comentario']).count()\n",
    "display(SVM_err[1])\n",
    "display(\"Acertos negativos\")\n",
    "SVM_err[2] = (dados_Binario_SVM[(dados_Binario_SVM['ClassificacaoManual']==0) & (dados_Binario_SVM['ClassificacaoSVM']==0)]['Comentario']).count()\n",
    "display(SVM_err[2])\n",
    "display(\"Erros negativos\")\n",
    "SVM_err[3] = (dados_Binario_SVM[(dados_Binario_SVM['ClassificacaoManual']==0) & (dados_Binario_SVM['ClassificacaoSVM']!=0)]['Comentario']).count()\n",
    "display(SVM_err[3])\n",
    "display(SVM_err)\n",
    "\n",
    "tmp = SVM_err[0] + SVM_err[1]\n",
    "SVM_err[0] = SVM_err[0]/(tmp)\n",
    "SVM_err[1] = SVM_err[1]/(tmp)\n",
    "tmp = SVM_err[2] + SVM_err[3]\n",
    "SVM_err[2] = SVM_err[2]/(tmp)\n",
    "SVM_err[3] = SVM_err[3]/(tmp)\n",
    "\n",
    "display(SVM_err)"
   ]
  },
  {
   "cell_type": "code",
   "execution_count": 150,
   "metadata": {},
   "outputs": [
    {
     "data": {
      "text/plain": [
       "'Acertos positivos'"
      ]
     },
     "metadata": {},
     "output_type": "display_data"
    },
    {
     "data": {
      "text/plain": [
       "86"
      ]
     },
     "metadata": {},
     "output_type": "display_data"
    },
    {
     "data": {
      "text/plain": [
       "'Erros positivos'"
      ]
     },
     "metadata": {},
     "output_type": "display_data"
    },
    {
     "data": {
      "text/plain": [
       "26"
      ]
     },
     "metadata": {},
     "output_type": "display_data"
    },
    {
     "data": {
      "text/plain": [
       "'Acertos negativos'"
      ]
     },
     "metadata": {},
     "output_type": "display_data"
    },
    {
     "data": {
      "text/plain": [
       "233"
      ]
     },
     "metadata": {},
     "output_type": "display_data"
    },
    {
     "data": {
      "text/plain": [
       "'Erros negativos'"
      ]
     },
     "metadata": {},
     "output_type": "display_data"
    },
    {
     "data": {
      "text/plain": [
       "20"
      ]
     },
     "metadata": {},
     "output_type": "display_data"
    },
    {
     "data": {
      "text/plain": [
       "[86, 26, 233, 20]"
      ]
     },
     "metadata": {},
     "output_type": "display_data"
    }
   ],
   "source": [
    "GPT_err = [0,0,0,0]\n",
    "display(\"Acertos positivos\")\n",
    "GPT_err[0] = (dados_Binario_GPT[(dados_Binario_GPT['sentimento_humano']==\"p\") & (dados_Binario_GPT['sentimento_GPT']==\"p\")]['comentario']).count()\n",
    "display(GPT_err[0])\n",
    "display(\"Erros positivos\")\n",
    "GPT_err[1] = (dados_Binario_GPT[(dados_Binario_GPT['sentimento_humano']==\"p\") & (dados_Binario_GPT['sentimento_GPT']!=\"p\")]['comentario']).count()\n",
    "display(GPT_err[1])\n",
    "display(\"Acertos negativos\")\n",
    "GPT_err[2] = (dados_Binario_GPT[(dados_Binario_GPT['sentimento_humano']==\"n\") & (dados_Binario_GPT['sentimento_GPT']==\"n\")]['comentario']).count()\n",
    "display(GPT_err[2])\n",
    "display(\"Erros negativos\")\n",
    "GPT_err[3] = (dados_Binario_GPT[(dados_Binario_GPT['sentimento_humano']==\"n\") & (dados_Binario_GPT['sentimento_GPT']!=\"n\")]['comentario']).count()\n",
    "display(GPT_err[3])\n",
    "display(GPT_err)\n",
    "\n",
    "tmp = GPT_err[0] + GPT_err[1]\n",
    "GPT_err[0] = GPT_err[0]/(tmp)\n",
    "GPT_err[1] = GPT_err[1]/(tmp)\n",
    "tmp = GPT_err[2] + GPT_err[3]\n",
    "GPT_err[2] = GPT_err[2]/(tmp)\n",
    "GPT_err[3] = GPT_err[3]/(tmp)"
   ]
  },
  {
   "cell_type": "code",
   "execution_count": 158,
   "metadata": {},
   "outputs": [
    {
     "data": {
      "image/png": "[encoded data removed]",
      "text/plain": [
       "<Figure size 640x480 with 1 Axes>"
      ]
     },
     "metadata": {},
     "output_type": "display_data"
    }
   ],
   "source": [
    "\n",
    "plt.bar(x=[1,6],height=[1,1])\n",
    "plt.bar(x=[2,7],height=[SVM_err[0],SVM_err[2]],label=\"Correct\",color=[0.1,0.5,0.3])\n",
    "plt.bar(x=[2,7],height=[SVM_err[1],SVM_err[3]], label=\"Error\",color=[0.9,0.2,0.2], bottom=[SVM_err[0],SVM_err[2]])\n",
    "plt.bar(x=[3,8],height=[BERT_err[0],BERT_err[2]],color=[0.1,0.5,0.3])\n",
    "plt.bar(x=[3,8],height=[BERT_err[1],BERT_err[3]],color=[0.9,0.2,0.2], bottom=[BERT_err[0],BERT_err[2]])\n",
    "plt.bar(x=[4,9],height=[GPT_err[0],GPT_err[2]],color=[0.1,0.5,0.3])\n",
    "plt.bar(x=[4,9],height=[GPT_err[1],GPT_err[3]],color=[0.9,0.2,0.2], bottom=[GPT_err[0],GPT_err[2]])\n",
    "plt.xticks([1,2,3,4,6,7,8,9],['Positive Manual','Positive SVM', 'Positive BERT', 'Positive GPT', 'Negative Manual','Negative SVM','Negative BERT','Negative GPT'],rotation=90)\n",
    "\n",
    "\n",
    "\n",
    "plt.legend(bbox_to_anchor = (1.05, 0.6))\n",
    "plt.ylabel(\"% of comments\")\n",
    "plt.xlabel(\"Classification\")\n",
    "plt.title(\"Model Classification X % of comments\")\n",
    "plt.show()"
   ]
  },
  {
   "cell_type": "code",
   "execution_count": 152,
   "metadata": {},
   "outputs": [
    {
     "data": {
      "text/plain": [
       "'Acertos positivos'"
      ]
     },
     "metadata": {},
     "output_type": "display_data"
    },
    {
     "data": {
      "text/plain": [
       "183"
      ]
     },
     "metadata": {},
     "output_type": "display_data"
    },
    {
     "data": {
      "text/plain": [
       "'Erros positivos'"
      ]
     },
     "metadata": {},
     "output_type": "display_data"
    },
    {
     "data": {
      "text/plain": [
       "49"
      ]
     },
     "metadata": {},
     "output_type": "display_data"
    },
    {
     "data": {
      "text/plain": [
       "'Acertos negativos'"
      ]
     },
     "metadata": {},
     "output_type": "display_data"
    },
    {
     "data": {
      "text/plain": [
       "496"
      ]
     },
     "metadata": {},
     "output_type": "display_data"
    },
    {
     "data": {
      "text/plain": [
       "'Erros negativos'"
      ]
     },
     "metadata": {},
     "output_type": "display_data"
    },
    {
     "data": {
      "text/plain": [
       "'Acertos neutros'"
      ]
     },
     "metadata": {},
     "output_type": "display_data"
    },
    {
     "data": {
      "text/plain": [
       "0"
      ]
     },
     "metadata": {},
     "output_type": "display_data"
    },
    {
     "data": {
      "text/plain": [
       "'Erros neutros'"
      ]
     },
     "metadata": {},
     "output_type": "display_data"
    },
    {
     "data": {
      "text/plain": [
       "48"
      ]
     },
     "metadata": {},
     "output_type": "display_data"
    },
    {
     "data": {
      "text/plain": [
       "[183, 49, 496, 50, 2420, 48]"
      ]
     },
     "metadata": {},
     "output_type": "display_data"
    },
    {
     "data": {
      "text/plain": [
       "[0.7887931034482759,\n",
       " 0.21120689655172414,\n",
       " 0.9084249084249084,\n",
       " 0.09157509157509157,\n",
       " 0.9805510534846029,\n",
       " 0.019448946515397084]"
      ]
     },
     "metadata": {},
     "output_type": "display_data"
    }
   ],
   "source": [
    "BERT_NaoBin_err = [0,0,0,0,0,0]\n",
    "display(\"Acertos positivos\")\n",
    "BERT_NaoBin_err[0] = (dados_NaoBinario_BERT[(dados_NaoBinario_BERT['sentimento_humano']==\"p\") & (dados_NaoBinario_BERT['sentimento_BERT']==\"p\")]['comentario']).count()\n",
    "display(BERT_NaoBin_err[0])\n",
    "display(\"Erros positivos\")\n",
    "BERT_NaoBin_err[1] = (dados_NaoBinario_BERT[(dados_NaoBinario_BERT['sentimento_humano']==\"p\") & (dados_NaoBinario_BERT['sentimento_BERT']!=\"p\")]['comentario']).count()\n",
    "display(BERT_NaoBin_err[1])\n",
    "display(\"Acertos negativos\")\n",
    "BERT_NaoBin_err[2] = (dados_NaoBinario_BERT[(dados_NaoBinario_BERT['sentimento_humano']==\"n\") & (dados_NaoBinario_BERT['sentimento_BERT']==\"n\")]['comentario']).count()\n",
    "display(BERT_NaoBin_err[2])\n",
    "display(\"Erros negativos\")\n",
    "BERT_NaoBin_err[3] = (dados_NaoBinario_BERT[(dados_NaoBinario_BERT['sentimento_humano']==\"n\") & (dados_NaoBinario_BERT['sentimento_BERT']!=\"n\")]['comentario']).count()\n",
    "display(\"Acertos neutros\")\n",
    "BERT_NaoBin_err[4] = (dados_NaoBinario_BERT[(dados_NaoBinario_BERT['sentimento_humano']==\"x\") & (dados_NaoBinario_BERT['sentimento_BERT']==\"x\")]['comentario']).count()\n",
    "display(BERT_NaoBin_err[5])\n",
    "display(\"Erros neutros\")\n",
    "BERT_NaoBin_err[5] = (dados_NaoBinario_BERT[(dados_NaoBinario_BERT['sentimento_humano']==\"x\") & (dados_NaoBinario_BERT['sentimento_BERT']!=\"x\")]['comentario']).count()\n",
    "display(BERT_NaoBin_err[5])\n",
    "display(BERT_NaoBin_err)\n",
    "\n",
    "tmp = BERT_NaoBin_err[0] + BERT_NaoBin_err[1]\n",
    "BERT_NaoBin_err[0] = BERT_NaoBin_err[0]/(tmp)\n",
    "BERT_NaoBin_err[1] = BERT_NaoBin_err[1]/(tmp)\n",
    "tmp = BERT_NaoBin_err[2] + BERT_NaoBin_err[3]\n",
    "BERT_NaoBin_err[2] = BERT_NaoBin_err[2]/(tmp)\n",
    "BERT_NaoBin_err[3] = BERT_NaoBin_err[3]/(tmp)\n",
    "tmp = BERT_NaoBin_err[4] + BERT_NaoBin_err[5]\n",
    "BERT_NaoBin_err[4] = BERT_NaoBin_err[4]/(tmp)\n",
    "BERT_NaoBin_err[5] = BERT_NaoBin_err[5]/(tmp)\n",
    "display(BERT_NaoBin_err)"
   ]
  },
  {
   "cell_type": "code",
   "execution_count": 153,
   "metadata": {},
   "outputs": [
    {
     "data": {
      "text/plain": [
       "'Acertos positivos'"
      ]
     },
     "metadata": {},
     "output_type": "display_data"
    },
    {
     "data": {
      "text/plain": [
       "7"
      ]
     },
     "metadata": {},
     "output_type": "display_data"
    },
    {
     "data": {
      "text/plain": [
       "'Erros positivos'"
      ]
     },
     "metadata": {},
     "output_type": "display_data"
    },
    {
     "data": {
      "text/plain": [
       "48"
      ]
     },
     "metadata": {},
     "output_type": "display_data"
    },
    {
     "data": {
      "text/plain": [
       "'Acertos negativos'"
      ]
     },
     "metadata": {},
     "output_type": "display_data"
    },
    {
     "data": {
      "text/plain": [
       "48"
      ]
     },
     "metadata": {},
     "output_type": "display_data"
    },
    {
     "data": {
      "text/plain": [
       "'Erros negativos'"
      ]
     },
     "metadata": {},
     "output_type": "display_data"
    },
    {
     "data": {
      "text/plain": [
       "81"
      ]
     },
     "metadata": {},
     "output_type": "display_data"
    },
    {
     "data": {
      "text/plain": [
       "'Acertos neutros'"
      ]
     },
     "metadata": {},
     "output_type": "display_data"
    },
    {
     "data": {
      "text/plain": [
       "502"
      ]
     },
     "metadata": {},
     "output_type": "display_data"
    },
    {
     "data": {
      "text/plain": [
       "'Erros neutros'"
      ]
     },
     "metadata": {},
     "output_type": "display_data"
    },
    {
     "data": {
      "text/plain": [
       "126"
      ]
     },
     "metadata": {},
     "output_type": "display_data"
    },
    {
     "data": {
      "text/plain": [
       "[7, 48, 48, 81, 502, 126]"
      ]
     },
     "metadata": {},
     "output_type": "display_data"
    },
    {
     "data": {
      "text/plain": [
       "[0.12727272727272726,\n",
       " 0.8727272727272727,\n",
       " 0.37209302325581395,\n",
       " 0.627906976744186,\n",
       " 0.7993630573248408,\n",
       " 0.20063694267515925]"
      ]
     },
     "metadata": {},
     "output_type": "display_data"
    }
   ],
   "source": [
    "SVM_NaoBin_err = [0,0,0,0,0,0]\n",
    "display(\"Acertos positivos\")\n",
    "SVM_NaoBin_err[0] = (dados_NaoBinario_SVM[(dados_NaoBinario_SVM['ClassificacaoManual']==1) & (dados_NaoBinario_SVM['ClassificacaoSVM']==1)]['Comentario']).count()\n",
    "display(SVM_NaoBin_err[0])\n",
    "display(\"Erros positivos\")\n",
    "SVM_NaoBin_err[1] = (dados_NaoBinario_SVM[(dados_NaoBinario_SVM['ClassificacaoManual']==1) & (dados_NaoBinario_SVM['ClassificacaoSVM']!=1)]['Comentario']).count()\n",
    "display(SVM_NaoBin_err[1])\n",
    "display(\"Acertos negativos\")\n",
    "SVM_NaoBin_err[2] = (dados_NaoBinario_SVM[(dados_NaoBinario_SVM['ClassificacaoManual']==0) & (dados_NaoBinario_SVM['ClassificacaoSVM']==0)]['Comentario']).count()\n",
    "display(SVM_NaoBin_err[2])\n",
    "display(\"Erros negativos\")\n",
    "SVM_NaoBin_err[3] = (dados_NaoBinario_SVM[(dados_NaoBinario_SVM['ClassificacaoManual']==0) & (dados_NaoBinario_SVM['ClassificacaoSVM']!=0)]['Comentario']).count()\n",
    "display(SVM_NaoBin_err[3])\n",
    "display(\"Acertos neutros\")\n",
    "SVM_NaoBin_err[4] = (dados_NaoBinario_SVM[(dados_NaoBinario_SVM['ClassificacaoManual']==2) & (dados_NaoBinario_SVM['ClassificacaoSVM']==2)]['Comentario']).count()\n",
    "display(SVM_NaoBin_err[4])\n",
    "display(\"Erros neutros\")\n",
    "SVM_NaoBin_err[5] = (dados_NaoBinario_SVM[(dados_NaoBinario_SVM['ClassificacaoManual']==2) & (dados_NaoBinario_SVM['ClassificacaoSVM']!=2)]['Comentario']).count()\n",
    "display(SVM_NaoBin_err[5])\n",
    "display(SVM_NaoBin_err)\n",
    "\n",
    "tmp = SVM_NaoBin_err[0] + SVM_NaoBin_err[1]\n",
    "SVM_NaoBin_err[0] = SVM_NaoBin_err[0]/(tmp)\n",
    "SVM_NaoBin_err[1] = SVM_NaoBin_err[1]/(tmp)\n",
    "tmp = SVM_NaoBin_err[2] + SVM_NaoBin_err[3]\n",
    "SVM_NaoBin_err[2] = SVM_NaoBin_err[2]/(tmp)\n",
    "SVM_NaoBin_err[3] = SVM_NaoBin_err[3]/(tmp)\n",
    "tmp = SVM_NaoBin_err[4] + SVM_NaoBin_err[5]\n",
    "SVM_NaoBin_err[4] = SVM_NaoBin_err[4]/(tmp)\n",
    "SVM_NaoBin_err[5] = SVM_NaoBin_err[5]/(tmp)\n",
    "\n",
    "display(SVM_NaoBin_err)"
   ]
  },
  {
   "cell_type": "code",
   "execution_count": 154,
   "metadata": {},
   "outputs": [
    {
     "data": {
      "text/plain": [
       "'Acertos positivos'"
      ]
     },
     "metadata": {},
     "output_type": "display_data"
    },
    {
     "data": {
      "text/plain": [
       "86"
      ]
     },
     "metadata": {},
     "output_type": "display_data"
    },
    {
     "data": {
      "text/plain": [
       "'Erros positivos'"
      ]
     },
     "metadata": {},
     "output_type": "display_data"
    },
    {
     "data": {
      "text/plain": [
       "146"
      ]
     },
     "metadata": {},
     "output_type": "display_data"
    },
    {
     "data": {
      "text/plain": [
       "'Acertos negativos'"
      ]
     },
     "metadata": {},
     "output_type": "display_data"
    },
    {
     "data": {
      "text/plain": [
       "233"
      ]
     },
     "metadata": {},
     "output_type": "display_data"
    },
    {
     "data": {
      "text/plain": [
       "'Erros negativos'"
      ]
     },
     "metadata": {},
     "output_type": "display_data"
    },
    {
     "data": {
      "text/plain": [
       "313"
      ]
     },
     "metadata": {},
     "output_type": "display_data"
    },
    {
     "data": {
      "text/plain": [
       "'Acertos neutros'"
      ]
     },
     "metadata": {},
     "output_type": "display_data"
    },
    {
     "data": {
      "text/plain": [
       "2226"
      ]
     },
     "metadata": {},
     "output_type": "display_data"
    },
    {
     "data": {
      "text/plain": [
       "'Erros negativos'"
      ]
     },
     "metadata": {},
     "output_type": "display_data"
    },
    {
     "data": {
      "text/plain": [
       "242"
      ]
     },
     "metadata": {},
     "output_type": "display_data"
    },
    {
     "data": {
      "text/plain": [
       "[86, 146, 233, 313, 2226, 242]"
      ]
     },
     "metadata": {},
     "output_type": "display_data"
    },
    {
     "data": {
      "text/plain": [
       "[0.3706896551724138,\n",
       " 0.6293103448275862,\n",
       " 0.4267399267399267,\n",
       " 0.5732600732600732,\n",
       " 0.9019448946515397,\n",
       " 0.09805510534846029]"
      ]
     },
     "metadata": {},
     "output_type": "display_data"
    }
   ],
   "source": [
    "GPT_NaoBin_err = [0,0,0,0,0,0]\n",
    "display(\"Acertos positivos\")\n",
    "GPT_NaoBin_err[0] = (dados_NaoBinario_GPT[(dados_NaoBinario_GPT['sentimento_humano']==\"p\") & (dados_NaoBinario_GPT['sentimento_GPT']==\"p\")]['comentario']).count()\n",
    "display(GPT_NaoBin_err[0])\n",
    "display(\"Erros positivos\")\n",
    "GPT_NaoBin_err[1] = (dados_NaoBinario_GPT[(dados_NaoBinario_GPT['sentimento_humano']==\"p\") & (dados_NaoBinario_GPT['sentimento_GPT']!=\"p\")]['comentario']).count()\n",
    "display(GPT_NaoBin_err[1])\n",
    "display(\"Acertos negativos\")\n",
    "GPT_NaoBin_err[2] = (dados_NaoBinario_GPT[(dados_NaoBinario_GPT['sentimento_humano']==\"n\") & (dados_NaoBinario_GPT['sentimento_GPT']==\"n\")]['comentario']).count()\n",
    "display(GPT_NaoBin_err[2])\n",
    "display(\"Erros negativos\")\n",
    "GPT_NaoBin_err[3] = (dados_NaoBinario_GPT[(dados_NaoBinario_GPT['sentimento_humano']==\"n\") & (dados_NaoBinario_GPT['sentimento_GPT']!=\"n\")]['comentario']).count()\n",
    "display(GPT_NaoBin_err[3])\n",
    "display(\"Acertos neutros\")\n",
    "GPT_NaoBin_err[4] = (dados_NaoBinario_GPT[(dados_NaoBinario_GPT['sentimento_humano']==\"x\") & (dados_NaoBinario_GPT['sentimento_GPT']==\"x\")]['comentario']).count()\n",
    "display(GPT_NaoBin_err[4])\n",
    "display(\"Erros negativos\")\n",
    "GPT_NaoBin_err[5] = (dados_NaoBinario_GPT[(dados_NaoBinario_GPT['sentimento_humano']==\"x\") & (dados_NaoBinario_GPT['sentimento_GPT']!=\"x\")]['comentario']).count()\n",
    "display(GPT_NaoBin_err[5])\n",
    "display(GPT_NaoBin_err)\n",
    "\n",
    "tmp = GPT_NaoBin_err[0] + GPT_NaoBin_err[1]\n",
    "GPT_NaoBin_err[0] = GPT_NaoBin_err[0]/(tmp)\n",
    "GPT_NaoBin_err[1] = GPT_NaoBin_err[1]/(tmp)\n",
    "tmp = GPT_NaoBin_err[2] + GPT_NaoBin_err[3]\n",
    "GPT_NaoBin_err[2] = GPT_NaoBin_err[2]/(tmp)\n",
    "GPT_NaoBin_err[3] = GPT_NaoBin_err[3]/(tmp)\n",
    "tmp = GPT_NaoBin_err[4] + GPT_NaoBin_err[5]\n",
    "GPT_NaoBin_err[4] = GPT_NaoBin_err[4]/(tmp)\n",
    "GPT_NaoBin_err[5] = GPT_NaoBin_err[5]/(tmp)\n",
    "\n",
    "display(GPT_NaoBin_err)"
   ]
  },
  {
   "cell_type": "code",
   "execution_count": 155,
   "metadata": {},
   "outputs": [
    {
     "data": {
      "image/png": "[encoded data removed]",
      "text/plain": [
       "<Figure size 640x480 with 1 Axes>"
      ]
     },
     "metadata": {},
     "output_type": "display_data"
    }
   ],
   "source": [
    "plt.bar(x=[1,6,11],height=[1,1,1])\n",
    "plt.bar(x=[2,7,12],height=[SVM_NaoBin_err[0],SVM_NaoBin_err[2],SVM_NaoBin_err[4]],label=\"SVM Correct\")\n",
    "plt.bar(x=[2,7,12],height=[SVM_NaoBin_err[1],SVM_NaoBin_err[3],SVM_NaoBin_err[5]], label=\"SVM Error\", bottom=[SVM_NaoBin_err[0],SVM_NaoBin_err[2],SVM_NaoBin_err[4]])\n",
    "plt.bar(x=[3,8,13],height=[BERT_NaoBin_err[0],BERT_NaoBin_err[2],BERT_NaoBin_err[4]],label=\"BERT Correct\")\n",
    "plt.bar(x=[3,8,13],height=[BERT_NaoBin_err[1],BERT_NaoBin_err[3],BERT_NaoBin_err[5]], label=\"BERT Error\", bottom=[BERT_NaoBin_err[0],BERT_NaoBin_err[2],BERT_NaoBin_err[4]])\n",
    "plt.bar(x=[4,9,14],height=[GPT_NaoBin_err[0],GPT_NaoBin_err[2],GPT_NaoBin_err[4]],label=\"GPT Correct\")\n",
    "plt.bar(x=[4,9,14],height=[GPT_NaoBin_err[1],GPT_NaoBin_err[3],GPT_NaoBin_err[5]], label=\"GPT Error\", bottom=[GPT_NaoBin_err[0],GPT_NaoBin_err[2],GPT_NaoBin_err[4]])\n",
    "plt.xticks([2.5,7.5,12.5],['Positive','Negative', 'Neutral'])\n",
    "\n",
    "plt.legend(bbox_to_anchor = (1.05, 0.6))\n",
    "plt.ylabel(\"% of comments\")\n",
    "plt.xlabel(\"Classification\")\n",
    "plt.title(\"Manual classification X Number of comments\")\n",
    "plt.show()"
   ]
  },
  {
   "cell_type": "code",
   "execution_count": 159,
   "metadata": {},
   "outputs": [
    {
     "data": {
      "image/png": "[encoded data removed]",
      "text/plain": [
       "<Figure size 640x480 with 1 Axes>"
      ]
     },
     "metadata": {},
     "output_type": "display_data"
    }
   ],
   "source": [
    "plt.bar(x=[1,6,11],height=[1,1,1])\n",
    "plt.bar(x=[2,7,12],height=[SVM_NaoBin_err[0],SVM_NaoBin_err[2],SVM_NaoBin_err[4]],label=\"Correct\",color=[0.1,0.5,0.3])\n",
    "plt.bar(x=[2,7,12],height=[SVM_NaoBin_err[1],SVM_NaoBin_err[3],SVM_NaoBin_err[5]], label=\"Error\",color=[0.9,0.2,0.2], bottom=[SVM_NaoBin_err[0],SVM_NaoBin_err[2],SVM_NaoBin_err[4]])\n",
    "plt.bar(x=[3,8,13],height=[BERT_NaoBin_err[0],BERT_NaoBin_err[2],BERT_NaoBin_err[4]],color=[0.1,0.5,0.3])\n",
    "plt.bar(x=[3,8,13],height=[BERT_NaoBin_err[1],BERT_NaoBin_err[3],BERT_NaoBin_err[5]], color=[0.9,0.2,0.2], bottom=[BERT_NaoBin_err[0],BERT_NaoBin_err[2],BERT_NaoBin_err[4]])\n",
    "plt.bar(x=[4,9,14],height=[GPT_NaoBin_err[0],GPT_NaoBin_err[2],GPT_NaoBin_err[4]],color=[0.1,0.5,0.3])\n",
    "plt.bar(x=[4,9,14],height=[GPT_NaoBin_err[1],GPT_NaoBin_err[3],GPT_NaoBin_err[5]],color=[0.9,0.2,0.2], bottom=[GPT_NaoBin_err[0],GPT_NaoBin_err[2],GPT_NaoBin_err[4]])\n",
    "plt.xticks([1,2,3,4,6,7,8,9,11,12,13,14],['Positive Manual','Positive SVM', 'Positive BERT', 'Positive GPT', 'Negative Manual','Negative SVM','Negative BERT','Negative GPT','Neutral Manual','Neutral SVM','Neutral BERT','Neutral GPT'],rotation=90)\n",
    "\n",
    "\n",
    "\n",
    "plt.legend(bbox_to_anchor = (1.05, 0.6))\n",
    "plt.ylabel(\"% of comments\")\n",
    "plt.xlabel(\"Classification\")\n",
    "plt.title(\"Model Classification X % of comments\")\n",
    "\n",
    "\n",
    "plt.show()"
   ]
  }
 ],
 "metadata": {
  "kernelspec": {
   "display_name": "Python 3",
   "language": "python",
   "name": "python3"
  },
  "language_info": {
   "codemirror_mode": {
    "name": "ipython",
    "version": 3
   },
   "file_extension": ".py",
   "mimetype": "text/x-python",
   "name": "python",
   "nbconvert_exporter": "python",
   "pygments_lexer": "ipython3",
   "version": "3.10.6"
  },
  "orig_nbformat": 4
 },
 "nbformat": 4,
 "nbformat_minor": 2
}
